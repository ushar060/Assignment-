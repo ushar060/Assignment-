{
  "nbformat": 4,
  "nbformat_minor": 0,
  "metadata": {
    "colab": {
      "provenance": []
    },
    "kernelspec": {
      "name": "python3",
      "display_name": "Python 3"
    },
    "language_info": {
      "name": "python"
    }
  },
  "cells": [
    {
      "cell_type": "markdown",
      "source": [
        "**Theroy Questions**"
      ],
      "metadata": {
        "id": "YPF1nKjHNSYf"
      }
    },
    {
      "cell_type": "markdown",
      "source": [
        "Ques 1-\n",
        "Compiled Languages: The source code is translated into machine code before execution by a compiler. This machine code runs directly on the hardware, making execution faster. Examples: C, C++.\n",
        "\n",
        "Interpreted Languages: The source code is executed line-by-line by an interpreter at runtime. This makes them slower but easier to debug and more flexible. Examples: Python, JavaScript."
      ],
      "metadata": {
        "id": "9B3bB2dANYfm"
      }
    },
    {
      "cell_type": "markdown",
      "source": [
        "Ques 2-\n",
        "Exception handling in Python is the process of managing errors that occur during program execution, so the program doesn’t crash.\n",
        "\n",
        "It uses keywords like:\n",
        "\n",
        "try – block where code may cause an error\n",
        "\n",
        "except – block to handle the error\n",
        "\n",
        "else – runs if no error occurs\n",
        "\n",
        "finally – runs no matter what (cleanup code)"
      ],
      "metadata": {
        "id": "pqaXm1TtOWsr"
      }
    },
    {
      "cell_type": "markdown",
      "source": [
        "Ques 3-\n",
        "The finally block in Python exception handling is used to execute code no matter what happens—whether an exception occurs or not.\n",
        "\n",
        "It’s often used for cleanup tasks like closing files, releasing resources, or disconnecting from a database."
      ],
      "metadata": {
        "id": "sOwPqlzmOy8v"
      }
    },
    {
      "cell_type": "markdown",
      "source": [
        "Ques 4-\n",
        "\n",
        "Logging in Python is the process of recording messages about a program’s execution, such as errors, warnings, or status updates, for debugging and monitoring purposes.\n",
        "\n",
        "Python’s built-in logging module lets you track events with different severity levels like DEBUG, INFO, WARNING, ERROR, and CRITICAL."
      ],
      "metadata": {
        "id": "7NRJP_6POzy8"
      }
    },
    {
      "cell_type": "markdown",
      "source": [
        "Ques5-\n",
        "The __del__ method in Python is a destructor — it is called automatically when an object is about to be destroyed (garbage collected).\n",
        "\n",
        "Its main purpose is to clean up resources like closing files or network connections before the object is removed from memory."
      ],
      "metadata": {
        "id": "5-CZDtcCPMZV"
      }
    },
    {
      "cell_type": "markdown",
      "source": [
        "Ques 6-\n",
        "Imports the entire module. You access its functions, classes, and variables with the module name as a prefix.\n",
        "\n",
        "Imports specific items from a module directly into your namespace, so you can use them without the module prefix."
      ],
      "metadata": {
        "id": "82rXPiMcPO_e"
      }
    },
    {
      "cell_type": "markdown",
      "source": [
        "Ques 7-\n",
        "-Using multiple except blocks – Handle each exception type separately.\n",
        "\n",
        "-Catching multiple exceptions in one block (tuple) – Handle different exceptions with the same code.\n",
        "\n",
        "-Generic except – Catches all exceptions (not recommended unless necessary)."
      ],
      "metadata": {
        "id": "IMK_dvF2PYQ0"
      }
    },
    {
      "cell_type": "markdown",
      "source": [
        "Ques 8-\n",
        "It catches any exception derived from Exception, regardless of type.\n",
        "This is not recommended unless you truly don’t know what kinds of errors might occur or you’re doing top-level error logging — because it can also mask bugs you didn’t intend to ignore."
      ],
      "metadata": {
        "id": "18LZ20LdPleq"
      }
    },
    {
      "cell_type": "markdown",
      "source": [
        "Ques 9-\n",
        "Multithreading → Runs multiple threads in the same process, sharing memory space. Best for I/O-bound tasks (like network requests, file reads). Limited by Python’s GIL for CPU-bound work.\n",
        "\n",
        "Multiprocessing → Runs multiple processes, each with its own memory space. Best for CPU-bound tasks (like heavy calculations) since it bypasses the GIL."
      ],
      "metadata": {
        "id": "DpOYkTLRP1du"
      }
    },
    {
      "cell_type": "markdown",
      "source": [
        "Ques 10-\n",
        "Advantages of using logging in a program:\n",
        "\n",
        "Tracks program flow – Helps understand what happened and when.\n",
        "\n",
        "Easier debugging – Provides detailed error and event information without stopping the program.\n",
        "\n",
        "Persistent records – Stores logs in files for later analysis.\n",
        "\n",
        "Configurable output – Can log at different levels (DEBUG, INFO, WARNING, ERROR, CRITICAL).\n",
        "\n",
        "Better than print() – Can be turned on/off or redirected without changing code logic."
      ],
      "metadata": {
        "id": "2cOjldRdP9D_"
      }
    },
    {
      "cell_type": "markdown",
      "source": [
        "Ques 11-Memory management in Python is the process of efficiently allocating, using, and freeing memory during program execution.\n",
        "\n",
        "Automatic – Python uses a private heap to store objects and variables.\n",
        "\n",
        "Garbage collection – Unused objects are automatically cleaned up using reference counting and the gc module.\n",
        "\n",
        "Memory allocation – Managed by Python’s memory manager and object-specific allocators.\n",
        "\n",
        "Benefit – Developers don’t need to manually free memory, reducing memory leaks and errors."
      ],
      "metadata": {
        "id": "rlb0MjaoQHqw"
      }
    },
    {
      "cell_type": "markdown",
      "source": [
        "Ques 12-\n",
        "\n",
        "The basic steps in exception handling in Python are:\n",
        "\n",
        "Wrap risky code in a try block – Place the code that might raise an exception.\n",
        "\n",
        "Handle errors with except blocks – Catch and handle specific exceptions (or generic ones if needed).\n",
        "\n",
        "Optional else block – Runs only if no exception occurs."
      ],
      "metadata": {
        "id": "iVsEt636Qk5K"
      }
    },
    {
      "cell_type": "markdown",
      "source": [
        "Ques 13-\n",
        "Memory management is important in Python because it ensures efficient use of memory, prevents memory leaks, and improves program performance.\n",
        "\n",
        "Python uses automatic garbage collection to free unused memory, which helps keep programs fast and prevents crashes due to excessive memory consumption."
      ],
      "metadata": {
        "id": "3Unda_DjQl7y"
      }
    },
    {
      "cell_type": "markdown",
      "source": [
        "Ques 14-\n",
        "In Python, try and except are used to handle exceptions without stopping program execution.\n",
        "\n",
        "try block – contains the code that might raise an exception.\n",
        "\n",
        "except block – contains the code to handle the exception if it occurs."
      ],
      "metadata": {
        "id": "B5bLjxKgRsKT"
      }
    },
    {
      "cell_type": "markdown",
      "source": [
        "Ques 15-\n",
        "Python’s garbage collection system automatically frees memory by removing objects that are no longer in use.\n",
        "\n",
        "It mainly works through:\n",
        "\n",
        "Reference counting – Each object keeps track of how many references point to it. When the count drops to zero, the memory is released.\n",
        "\n",
        "Garbage collector for cyclic references – Python’s gc module detects and removes objects involved in reference cycles (when objects reference each other, preventing reference count from reaching zero)."
      ],
      "metadata": {
        "id": "q9_5khP6R0ay"
      }
    },
    {
      "cell_type": "markdown",
      "source": [
        "Ques 16-\n",
        "In Python exception handling, the else block is executed only if no exceptions occur in the try block.\n",
        "\n",
        "It’s useful for code that should run only when everything in try succeeds—keeping it separate from the try (normal flow) and finally (always executes) blocks."
      ],
      "metadata": {
        "id": "jIWonrQyR1-h"
      }
    },
    {
      "cell_type": "markdown",
      "source": [
        "Ques 17-\n",
        "The common logging levels in Python (from lowest to highest severity) are:\n",
        "\n",
        "DEBUG – Detailed diagnostic information for developers.\n",
        "\n",
        "INFO – General events confirming things are working as expected.\n",
        "\n",
        "WARNING – Something unexpected happened, but the program still works.\n",
        "\n",
        "ERROR – A serious problem that prevents part of the program from functioning.\n",
        "\n",
        "CRITICAL – A severe error indicating the program itself may be unable to continue."
      ],
      "metadata": {
        "id": "Oq3UYtn3SSQ9"
      }
    },
    {
      "cell_type": "markdown",
      "source": [
        "Ques 18-\n",
        "Difference between os.fork() and multiprocessing in Python:\n",
        "\n",
        "os.fork()\n",
        "\n",
        "Works only on Unix/Linux systems.\n",
        "\n",
        "Directly creates a child process by duplicating the current process.\n",
        "\n",
        "Lower-level, requires manual handling of inter-process communication and synchronization.\n",
        "\n",
        "Not available on Windows.\n",
        "\n",
        "multiprocessing module\n",
        "\n",
        "Works on both Windows and Unix/Linux.\n",
        "\n",
        "Provides a high-level API for creating processes.\n",
        "\n",
        "Handles inter-process communication, synchronization, and process management internally.\n",
        "\n",
        "Easier and safer to use than os.fork().\n"
      ],
      "metadata": {
        "id": "ijBhrBBnSbY1"
      }
    },
    {
      "cell_type": "markdown",
      "source": [
        "Ques 19-\n",
        "ChatGPT said:\n",
        "\n",
        "Importance of closing a file in Python:\n",
        "\n",
        "Frees system resources – Prevents memory leaks and too many open file errors.\n",
        "\n",
        "Ensures data is saved – Writes any buffered data to the file before closing.\n",
        "\n",
        "Avoids file corruption – Especially important when writing to files.\n",
        "\n",
        "Releases file locks – Allows other programs to access the file.\n"
      ],
      "metadata": {
        "id": "IL0lipD1Smu_"
      }
    },
    {
      "cell_type": "markdown",
      "source": [
        "Ques 20-\n",
        "Difference between file.read() and file.readline() in Python:\n",
        "\n",
        "file.read() – Reads the entire file content (or up to the specified number of characters) as a single string.\n",
        "\n",
        "file.readline() – Reads only one line from the file at a time, ending at the newline character."
      ],
      "metadata": {
        "id": "1EKMB5hrSym1"
      }
    },
    {
      "cell_type": "markdown",
      "source": [
        "Ques 21-\n",
        "The logging module in Python is used for recording messages about a program’s execution, such as errors, warnings, or debugging information.\n",
        "It helps track events, diagnose problems, and keep logs for monitoring without printing directly to the console."
      ],
      "metadata": {
        "id": "Lo7kwgiGS-V7"
      }
    },
    {
      "cell_type": "markdown",
      "source": [
        "Ques 22-\n",
        "The os module in Python provides functions to interact with the operating system for file handling, such as creating, deleting, renaming, and navigating directories, as well as checking file properties and permissions."
      ],
      "metadata": {
        "id": "FX0dCu3KTFND"
      }
    },
    {
      "cell_type": "markdown",
      "source": [
        "Ques 23-\n",
        "Challenges in Python’s memory management include:\n",
        "\n",
        "Garbage collection overhead – Automatic cleanup can cause performance delays.\n",
        "\n",
        "Memory leaks – Caused by lingering references to unused objects.\n",
        "\n",
        "Fragmentation – Inefficient memory allocation over time.\n",
        "\n",
        "High memory usage – Especially with large objects or data structures."
      ],
      "metadata": {
        "id": "RarzdwW9TQie"
      }
    },
    {
      "cell_type": "markdown",
      "source": [
        "Ques 24-\n",
        "You can raise an exception manually in Python using the raise keyword, followed by the exception type (and optionally a message)."
      ],
      "metadata": {
        "id": "efDV3TLITXYw"
      }
    },
    {
      "cell_type": "markdown",
      "source": [
        "Ques 25-\n",
        "Multithreading is important in certain applications because it allows multiple tasks to run concurrently within the same program, improving efficiency and responsiveness.\n",
        "\n",
        "Key benefits:\n",
        "\n",
        "Better performance for I/O-bound tasks – e.g., reading files, making API calls, or database queries.\n",
        "\n",
        "Improved responsiveness – keeps applications (like GUIs) active while background tasks run.\n",
        "\n",
        "Efficient resource usage – multiple threads can share the same memory spa"
      ],
      "metadata": {
        "id": "JRu5IV8TTeOJ"
      }
    },
    {
      "cell_type": "markdown",
      "source": [
        "**Practical Questions**"
      ],
      "metadata": {
        "id": "clYrJAqZTjJ5"
      }
    },
    {
      "cell_type": "code",
      "source": [
        "#Ques 1-\n",
        "# Open the file in write mode ('w')\n",
        "file = open(\"example.txt\", \"w\")\n",
        "\n",
        "# Write a string to the file\n",
        "file.write(\"Hello, Python!\")\n",
        "\n",
        "# Close the file to save changes\n",
        "file.close()\n"
      ],
      "metadata": {
        "id": "RFNauNMJTo1_"
      },
      "execution_count": 3,
      "outputs": []
    },
    {
      "cell_type": "code",
      "source": [
        "#Ques 2-\n",
        "# Open the file in read mode\n",
        "with open(\"example.txt\", \"r\") as file:\n",
        "    # Loop through each line in the file\n",
        "    for line in file:\n",
        "        print(line.strip())  # strip() removes newline characters\n"
      ],
      "metadata": {
        "colab": {
          "base_uri": "https://localhost:8080/"
        },
        "id": "7XJHuGelT8OV",
        "outputId": "cff029aa-f5d4-4ba5-b6b6-d915134bd4e1"
      },
      "execution_count": 5,
      "outputs": [
        {
          "output_type": "stream",
          "name": "stdout",
          "text": [
            "Hello, Python!\n"
          ]
        }
      ]
    },
    {
      "cell_type": "code",
      "source": [
        "#ques 3-\n",
        "try:\n",
        "    with open(\"example.txt\", \"r\") as file:\n",
        "        for line in file:\n",
        "            print(line.strip())\n",
        "except FileNotFoundError:\n",
        "    print(\"Error: The file does not exist.\")\n"
      ],
      "metadata": {
        "colab": {
          "base_uri": "https://localhost:8080/"
        },
        "id": "KXy3U1HoUOnk",
        "outputId": "73a85cfd-f523-47eb-85c6-13032624436a"
      },
      "execution_count": 6,
      "outputs": [
        {
          "output_type": "stream",
          "name": "stdout",
          "text": [
            "Hello, Python!\n"
          ]
        }
      ]
    },
    {
      "cell_type": "code",
      "source": [
        "#Ques 4-\n",
        "# Create the source file with some content\n",
        "with open(\"source.txt\", \"w\") as src_create:\n",
        "    src_create.write(\"This is the content of the source file.\")\n",
        "\n",
        "# Read from source file and write to destination file\n",
        "with open(\"source.txt\", \"r\") as src, open(\"destination.txt\", \"w\") as dest:\n",
        "    dest.write(src.read())\n",
        "\n",
        "print(\"File copied successfully!\")"
      ],
      "metadata": {
        "colab": {
          "base_uri": "https://localhost:8080/"
        },
        "id": "aDyxCRW_UXEP",
        "outputId": "e7fc8e6b-e060-4896-b5c8-85b9af4e6af7"
      },
      "execution_count": 8,
      "outputs": [
        {
          "output_type": "stream",
          "name": "stdout",
          "text": [
            "File copied successfully!\n"
          ]
        }
      ]
    },
    {
      "cell_type": "code",
      "source": [
        "#ques 5\n",
        "try:\n",
        "    num = 10\n",
        "    denom = 0\n",
        "    result = num / denom\n",
        "except ZeroDivisionError:\n",
        "    print(\"Error: Division by zero is not allowed.\")"
      ],
      "metadata": {
        "colab": {
          "base_uri": "https://localhost:8080/"
        },
        "id": "GxwIm7RXUdYK",
        "outputId": "86b4df4a-4160-4ad1-a7e2-448491cba930"
      },
      "execution_count": 9,
      "outputs": [
        {
          "output_type": "stream",
          "name": "stdout",
          "text": [
            "Error: Division by zero is not allowed.\n"
          ]
        }
      ]
    },
    {
      "cell_type": "code",
      "source": [
        "#Ques 6\n",
        "import logging\n",
        "\n",
        "# Configure logging\n",
        "logging.basicConfig(filename=\"error.log\", level=logging.ERROR,\n",
        "                    format=\"%(asctime)s - %(levelname)s - %(message)s\")\n",
        "\n",
        "try:\n",
        "    num = 10\n",
        "    denom = 0\n",
        "    result = num / denom\n",
        "except ZeroDivisionError:\n",
        "    logging.error(\"Division by zero attempted.\")\n",
        "    print(\"An error occurred. Check 'error.log' for details.\")\n"
      ],
      "metadata": {
        "colab": {
          "base_uri": "https://localhost:8080/"
        },
        "id": "A1HYMIwMVUfB",
        "outputId": "570e8d78-cfa6-4252-a149-a18e284b0e8c"
      },
      "execution_count": 10,
      "outputs": [
        {
          "output_type": "stream",
          "name": "stderr",
          "text": [
            "ERROR:root:Division by zero attempted.\n"
          ]
        },
        {
          "output_type": "stream",
          "name": "stdout",
          "text": [
            "An error occurred. Check 'error.log' for details.\n"
          ]
        }
      ]
    },
    {
      "cell_type": "code",
      "source": [
        "#ques 7\n",
        "import logging\n",
        "\n",
        "# Configure logging\n",
        "logging.basicConfig(filename=\"app.log\", level=logging.DEBUG,\n",
        "                    format=\"%(asctime)s - %(levelname)s - %(message)s\")\n",
        "\n",
        "# Logging at different levels\n",
        "logging.info(\"This is an INFO message — used for general information.\")\n",
        "logging.warning(\"This is a WARNING message — something unexpected happened, but the program will continue.\")\n",
        "logging.error(\"This is an ERROR message — something went wrong and may require attention.\")\n"
      ],
      "metadata": {
        "colab": {
          "base_uri": "https://localhost:8080/"
        },
        "id": "bRXKr2wPVdSA",
        "outputId": "7472a54e-00f5-4b67-d907-90c43f1937ca"
      },
      "execution_count": 13,
      "outputs": [
        {
          "output_type": "stream",
          "name": "stderr",
          "text": [
            "WARNING:root:This is a WARNING message — something unexpected happened, but the program will continue.\n",
            "ERROR:root:This is an ERROR message — something went wrong and may require attention.\n"
          ]
        }
      ]
    },
    {
      "cell_type": "code",
      "source": [
        "#Ques 8-\n",
        "try:\n",
        "    # Try opening a file that may not exist\n",
        "    file = open(\"example.txt\", \"r\")\n",
        "    content = file.read()\n",
        "    print(content)\n",
        "    file.close()\n",
        "except FileNotFoundError:\n",
        "    print(\"Error: The file does not exist.\")\n",
        "except PermissionError:\n",
        "    print(\"Error: You do not have permission to open this file.\")\n",
        "except Exception as e:\n",
        "    print(f\"An unexpected error occurred: {e}\")\n"
      ],
      "metadata": {
        "colab": {
          "base_uri": "https://localhost:8080/"
        },
        "id": "a4DHrRyxVgl5",
        "outputId": "65ba6e14-0ecf-4f29-8dc8-352220503777"
      },
      "execution_count": 14,
      "outputs": [
        {
          "output_type": "stream",
          "name": "stdout",
          "text": [
            "Hello, Python!\n"
          ]
        }
      ]
    },
    {
      "cell_type": "code",
      "source": [
        "#Ques 9\n",
        "with open(\"example.txt\", \"r\") as file:\n",
        "    lines = file.readlines()  # Reads all lines into a list\n",
        "\n",
        "# Remove newline characters if needed\n",
        "lines = [line.strip() for line in lines]\n",
        "\n",
        "print(lines)\n"
      ],
      "metadata": {
        "colab": {
          "base_uri": "https://localhost:8080/"
        },
        "id": "G7DjwscwVqx5",
        "outputId": "3c4a1217-aee9-4d0e-edf1-4bf945e2ad5b"
      },
      "execution_count": 15,
      "outputs": [
        {
          "output_type": "stream",
          "name": "stdout",
          "text": [
            "['Hello, Python!']\n"
          ]
        }
      ]
    },
    {
      "cell_type": "code",
      "source": [
        "#Ques 10\n",
        "# Open the file in append mode\n",
        "with open(\"example.txt\", \"a\") as file:\n",
        "    file.write(\"\\nThis is new content added at the end.\")\n",
        "\n",
        "print(\"Data appended successfully!\")\n"
      ],
      "metadata": {
        "colab": {
          "base_uri": "https://localhost:8080/"
        },
        "id": "bQM-4_P5VyHV",
        "outputId": "df1838cd-33bb-45cd-dc15-041d455af2f7"
      },
      "execution_count": 16,
      "outputs": [
        {
          "output_type": "stream",
          "name": "stdout",
          "text": [
            "Data appended successfully!\n"
          ]
        }
      ]
    },
    {
      "cell_type": "code",
      "source": [
        "#Ques 11-\n",
        "# Dictionary\n",
        "my_dict = {\"name\": \"Alice\", \"age\": 25}\n",
        "\n",
        "try:\n",
        "    # Attempt to access a non-existing key\n",
        "    print(my_dict[\"city\"])\n",
        "except KeyError:\n",
        "    print(\"Error: The key does not exist in the dictionary.\")\n"
      ],
      "metadata": {
        "colab": {
          "base_uri": "https://localhost:8080/"
        },
        "id": "KQAb5tZbWAq0",
        "outputId": "772510ea-f18e-4f78-b207-a416862300fc"
      },
      "execution_count": 17,
      "outputs": [
        {
          "output_type": "stream",
          "name": "stdout",
          "text": [
            "Error: The key does not exist in the dictionary.\n"
          ]
        }
      ]
    },
    {
      "cell_type": "code",
      "source": [
        "#ques 12\n",
        "try:\n",
        "    num = int(input(\"Enter a number: \"))  # Might raise ValueError\n",
        "    result = 10 / num                     # Might raise ZeroDivisionError\n",
        "except ValueError:\n",
        "    print(\"Error: Please enter a valid integer.\")\n",
        "except ZeroDivisionError:\n",
        "    print(\"Error: Division by zero is not allowed.\")\n"
      ],
      "metadata": {
        "colab": {
          "base_uri": "https://localhost:8080/"
        },
        "id": "QfDb3rNSWNtP",
        "outputId": "3809785a-00ea-4011-ef4b-445aa0b1e9ba"
      },
      "execution_count": 18,
      "outputs": [
        {
          "output_type": "stream",
          "name": "stdout",
          "text": [
            "Enter a number: 0\n",
            "Error: Division by zero is not allowed.\n"
          ]
        }
      ]
    },
    {
      "cell_type": "code",
      "source": [
        "#Ques 13\n",
        "import os\n",
        "\n",
        "filename = \"example.txt\"\n",
        "\n",
        "if os.path.exists(filename):\n",
        "    with open(filename, \"r\") as file:\n",
        "        print(file.read())\n",
        "else:\n",
        "    print(\"File does not exist.\")\n"
      ],
      "metadata": {
        "colab": {
          "base_uri": "https://localhost:8080/"
        },
        "id": "uFuJJkWQWkaP",
        "outputId": "747da422-35ba-482f-a065-c116d447e180"
      },
      "execution_count": 19,
      "outputs": [
        {
          "output_type": "stream",
          "name": "stdout",
          "text": [
            "Hello, Python!\n",
            "This is new content added at the end.\n"
          ]
        }
      ]
    },
    {
      "cell_type": "code",
      "source": [
        "#ques 14-\n",
        "import logging\n",
        "\n",
        "# Configure logging\n",
        "logging.basicConfig(filename=\"app.log\",\n",
        "                    level=logging.DEBUG,\n",
        "                    format=\"%(asctime)s - %(levelname)s - %(message)s\")\n",
        "\n",
        "# Log informational message\n",
        "logging.info(\"Application started successfully.\")\n",
        "\n",
        "try:\n",
        "    x = 10 / 0  # This will cause ZeroDivisionError\n",
        "except ZeroDivisionError as e:\n",
        "    logging.error(\"Error occurred: Division by zero.\")\n",
        "\n",
        "logging.info(\"Application finished running.\")\n"
      ],
      "metadata": {
        "colab": {
          "base_uri": "https://localhost:8080/"
        },
        "id": "GiOCLUoHWxW7",
        "outputId": "a38bde05-68f5-48c8-8a53-1fc9c80ebb3e"
      },
      "execution_count": 20,
      "outputs": [
        {
          "output_type": "stream",
          "name": "stderr",
          "text": [
            "ERROR:root:Error occurred: Division by zero.\n"
          ]
        }
      ]
    },
    {
      "cell_type": "code",
      "source": [
        "#ques 15-\n",
        "def print_file_content(filename):\n",
        "    try:\n",
        "        with open(filename, \"r\") as file:\n",
        "            content = file.read()\n",
        "            if content.strip() == \"\":\n",
        "                print(\"The file is empty.\")\n",
        "            else:\n",
        "                print(\"File content:\\n\", content)\n",
        "    except FileNotFoundError:\n",
        "        print(f\"Error: The file '{filename}' does not exist.\")\n",
        "\n",
        "# Example usage\n",
        "print_file_content(\"example.txt\")\n"
      ],
      "metadata": {
        "colab": {
          "base_uri": "https://localhost:8080/"
        },
        "id": "h_aYTwtaW89w",
        "outputId": "6d58fa54-d5b5-4092-c7eb-626dadb1d765"
      },
      "execution_count": 21,
      "outputs": [
        {
          "output_type": "stream",
          "name": "stdout",
          "text": [
            "File content:\n",
            " Hello, Python!\n",
            "This is new content added at the end.\n"
          ]
        }
      ]
    },
    {
      "cell_type": "code",
      "source": [
        "#Ques 16-\n",
        "from memory_profiler import profile\n",
        "\n",
        "@profile\n",
        "def create_list():\n",
        "    # Create a large list to simulate memory usage\n",
        "    my_list = [i for i in range(100000)]\n",
        "    print(\"List created with\", len(my_list), \"elements.\")\n",
        "\n",
        "if __name__ == \"__main__\":\n",
        "    create_list()\n"
      ],
      "metadata": {
        "colab": {
          "base_uri": "https://localhost:8080/"
        },
        "id": "LGYxIFSqXEgL",
        "outputId": "61dd6006-fd7e-4c86-9aa7-9ceb811e4f2d"
      },
      "execution_count": 25,
      "outputs": [
        {
          "output_type": "stream",
          "name": "stdout",
          "text": [
            "ERROR: Could not find file /tmp/ipython-input-1172279314.py\n",
            "List created with 100000 elements.\n"
          ]
        }
      ]
    },
    {
      "cell_type": "code",
      "source": [
        "#Ques 1-7-\n",
        "numbers = [1, 2, 3, 4, 5]\n",
        "\n",
        "with open(\"numbers.txt\", \"w\") as file:\n",
        "    for num in numbers:\n",
        "        file.write(str(num) + \"\\n\")\n",
        "\n",
        "print(\"Numbers written to numbers.txt successfully.\")\n"
      ],
      "metadata": {
        "colab": {
          "base_uri": "https://localhost:8080/"
        },
        "id": "b0i9eYskXZT8",
        "outputId": "54ea8d67-1bcd-45b8-8fba-dfc403ee38b6"
      },
      "execution_count": 26,
      "outputs": [
        {
          "output_type": "stream",
          "name": "stdout",
          "text": [
            "Numbers written to numbers.txt successfully.\n"
          ]
        }
      ]
    },
    {
      "cell_type": "code",
      "source": [
        "#ques 18-\n",
        "import logging\n",
        "from logging.handlers import RotatingFileHandler\n",
        "\n",
        "# Create a logger\n",
        "logger = logging.getLogger(\"MyLogger\")\n",
        "logger.setLevel(logging.DEBUG)  # Capture all levels\n",
        "\n",
        "# Create a rotating file handler\n",
        "handler = RotatingFileHandler(\n",
        "    \"app.log\",       # Log file name\n",
        "    maxBytes=1 * 1024 * 1024,  # Rotate after 1 MB\n",
        "    backupCount=3    # Keep last 3 backups\n",
        ")\n",
        "\n",
        "# Create a log format\n",
        "formatter = logging.Formatter('%(asctime)s - %(levelname)s - %(message)s')\n",
        "handler.setFormatter(formatter)\n",
        "\n",
        "# Add handler to logger\n",
        "logger.addHandler(handler)\n",
        "\n",
        "# Example log messages\n",
        "for i in range(10000):\n",
        "    logger.info(f\"Log message {i}\")\n"
      ],
      "metadata": {
        "id": "XBqxKJerXmpc"
      },
      "execution_count": null,
      "outputs": []
    },
    {
      "cell_type": "code",
      "source": [
        "#ques 19-\n",
        "# Program to handle both IndexError and KeyError\n",
        "\n",
        "try:\n",
        "    # Trigger IndexError\n",
        "    my_list = [1, 2, 3]\n",
        "    print(my_list[5])  # Invalid index\n",
        "\n",
        "    # Trigger KeyError\n",
        "    my_dict = {\"name\": \"Alice\"}\n",
        "    print(my_dict[\"age\"])  # Key doesn't exist\n",
        "\n",
        "except IndexError:\n",
        "    print(\"Error: Tried to access an invalid index in the list.\")\n",
        "\n",
        "except KeyError:\n",
        "    print(\"Error: Tried to access a key that doesn't exist in the dictionary.\")\n",
        "\n",
        "except Exception as e:\n",
        "    print(f\"An unexpected error occurred: {e}\")\n"
      ],
      "metadata": {
        "colab": {
          "base_uri": "https://localhost:8080/"
        },
        "id": "oyxNOcuZX-RK",
        "outputId": "8e06f117-3bee-480f-db39-67b748a83b5c"
      },
      "execution_count": 1,
      "outputs": [
        {
          "output_type": "stream",
          "name": "stdout",
          "text": [
            "Error: Tried to access an invalid index in the list.\n"
          ]
        }
      ]
    },
    {
      "cell_type": "code",
      "source": [
        "#ques 20-\n",
        "# Open and read file using context manager\n",
        "with open(\"example.txt\", \"r\") as file:\n",
        "    contents = file.read()\n",
        "\n",
        "print(contents)\n"
      ],
      "metadata": {
        "colab": {
          "base_uri": "https://localhost:8080/"
        },
        "id": "QyT3-m0bYBbV",
        "outputId": "505b4601-7d82-4f3e-c4ce-a6c0fc630a89"
      },
      "execution_count": 2,
      "outputs": [
        {
          "output_type": "stream",
          "name": "stdout",
          "text": [
            "Hello, Python!\n",
            "This is new content added at the end.\n"
          ]
        }
      ]
    },
    {
      "cell_type": "code",
      "source": [
        "#ques 21-\n",
        "# Program to count occurrences of a specific word in a file\n",
        "\n",
        "# File name and target word\n",
        "file_name = \"example.txt\"\n",
        "word_to_find = \"python\"\n",
        "\n",
        "try:\n",
        "    with open(file_name, \"r\") as file:\n",
        "        contents = file.read().lower()  # Read file and convert to lowercase\n",
        "\n",
        "    # Count occurrences\n",
        "    word_count = contents.split().count(word_to_find.lower())\n",
        "\n",
        "    print(f\"The word '{word_to_find}' occurs {word_count} times in the file.\")\n",
        "\n",
        "except FileNotFoundError:\n",
        "    print(f\"Error: The file '{file_name}' was not found.\")\n"
      ],
      "metadata": {
        "colab": {
          "base_uri": "https://localhost:8080/"
        },
        "id": "ZDm4qH-jYKK-",
        "outputId": "b869901c-7bd9-4aa4-e227-bd7214dcf8cc"
      },
      "execution_count": 3,
      "outputs": [
        {
          "output_type": "stream",
          "name": "stdout",
          "text": [
            "The word 'python' occurs 0 times in the file.\n"
          ]
        }
      ]
    },
    {
      "cell_type": "code",
      "source": [
        "#Ques 22-import os\n",
        "\n",
        "file_name = \"example.txt\"\n",
        "\n",
        "# Check if file exists first\n",
        "if os\n",
        "\n"
      ],
      "metadata": {
        "colab": {
          "base_uri": "https://localhost:8080/",
          "height": 106
        },
        "id": "dKXdUariYSGP",
        "outputId": "768ec91f-6d1b-421b-bf36-e1514d8ec58c"
      },
      "execution_count": 6,
      "outputs": [
        {
          "output_type": "error",
          "ename": "SyntaxError",
          "evalue": "expected ':' (ipython-input-170408722.py, line 6)",
          "traceback": [
            "\u001b[0;36m  File \u001b[0;32m\"/tmp/ipython-input-170408722.py\"\u001b[0;36m, line \u001b[0;32m6\u001b[0m\n\u001b[0;31m    if os\u001b[0m\n\u001b[0m         ^\u001b[0m\n\u001b[0;31mSyntaxError\u001b[0m\u001b[0;31m:\u001b[0m expected ':'\n"
          ]
        }
      ]
    },
    {
      "cell_type": "code",
      "source": [
        "#Ques 23-\n",
        "import logging\n",
        "\n",
        "# Configure logging to write to a file\n",
        "logging.basicConfig(filename='file_errors.log',\n",
        "                    level=logging.ERROR,\n",
        "                    format='%(asctime)s - %(levelname)s - %(message)s')\n",
        "\n",
        "try:\n",
        "    # Attempt to open a file that may not exist\n",
        "    with open(\"non_existent_file.txt\", \"r\") as file:\n",
        "        content = file.read()\n",
        "        print(content)\n",
        "\n",
        "except FileNotFoundError as e:\n",
        "    logging.error(f\"File not found: {e}\")\n",
        "    print(\"Error: The file does not exist.\")\n",
        "\n",
        "except Exception as e:\n",
        "    logging.error(f\"Unexpected error: {e}\")\n",
        "    print(\"An unexpected error occurred.\")\n"
      ],
      "metadata": {
        "colab": {
          "base_uri": "https://localhost:8080/"
        },
        "id": "Z_jkJU9uYeKr",
        "outputId": "11992352-29ed-493b-f869-6b0f934d804b"
      },
      "execution_count": 7,
      "outputs": [
        {
          "output_type": "stream",
          "name": "stderr",
          "text": [
            "ERROR:root:File not found: [Errno 2] No such file or directory: 'non_existent_file.txt'\n"
          ]
        },
        {
          "output_type": "stream",
          "name": "stdout",
          "text": [
            "Error: The file does not exist.\n"
          ]
        }
      ]
    },
    {
      "cell_type": "code",
      "source": [],
      "metadata": {
        "id": "_MUvdtEyYw9O"
      },
      "execution_count": null,
      "outputs": []
    }
  ]
}